{
 "cells": [
  {
   "cell_type": "markdown",
   "id": "6d502f75",
   "metadata": {},
   "source": [
    "# Movie rating prediction"
   ]
  },
  {
   "cell_type": "markdown",
   "id": "20f98e7d",
   "metadata": {},
   "source": [
    "# importing the libaray"
   ]
  },
  {
   "cell_type": "code",
   "execution_count": 44,
   "id": "c9765651",
   "metadata": {},
   "outputs": [],
   "source": [
    "import pandas as pd\n",
    "import numpy as np \n",
    "import seaborn as sns\n",
    "import matplotlib.pyplot as plt \n",
    "\n",
    "from sklearn.model_selection import train_test_split\n",
    "from sklearn.linear_model import LinearRegression\n",
    "from sklearn.metrics import mean_squared_error, r2_score\n"
   ]
  },
  {
   "cell_type": "markdown",
   "id": "988e584d",
   "metadata": {},
   "source": [
    "# there is a problem with the dataset while loading dataset we have to specify the encoding of dataset"
   ]
  },
  {
   "cell_type": "code",
   "execution_count": 3,
   "id": "f79029cc",
   "metadata": {},
   "outputs": [
    {
     "name": "stdout",
     "output_type": "stream",
     "text": [
      "Note: you may need to restart the kernel to use updated packages.\n"
     ]
    },
    {
     "name": "stderr",
     "output_type": "stream",
     "text": [
      "ERROR: Invalid requirement: '#installing'\n"
     ]
    }
   ],
   "source": [
    "pip install chardet #installing chardet"
   ]
  },
  {
   "cell_type": "code",
   "execution_count": 4,
   "id": "efc4d31f",
   "metadata": {},
   "outputs": [],
   "source": [
    "#importing chardataset\n",
    "import chardet\n",
    "# Detect the encoding\n",
    "with open(\"D:/code soft project material/IMDb Movies India.csv\", 'rb') as f:\n",
    "    result = chardet.detect(f.read())"
   ]
  },
  {
   "cell_type": "code",
   "execution_count": 5,
   "id": "90d9818a",
   "metadata": {},
   "outputs": [
    {
     "name": "stdout",
     "output_type": "stream",
     "text": [
      "{'encoding': 'ISO-8859-1', 'confidence': 0.7299861886043824, 'language': ''}\n"
     ]
    }
   ],
   "source": [
    "print(result)"
   ]
  },
  {
   "cell_type": "code",
   "execution_count": 6,
   "id": "9015de7b",
   "metadata": {},
   "outputs": [],
   "source": [
    "df = pd.read_csv(\"D:/code soft project material/IMDb Movies India.csv\", encoding=result['encoding']) #reading the csv file "
   ]
  },
  {
   "cell_type": "code",
   "execution_count": null,
   "id": "6713daec",
   "metadata": {
    "scrolled": true
   },
   "outputs": [],
   "source": []
  },
  {
   "cell_type": "markdown",
   "id": "91a1bdb9",
   "metadata": {},
   "source": [
    "# performing EDA"
   ]
  },
  {
   "cell_type": "code",
   "execution_count": 7,
   "id": "13a3d7d0",
   "metadata": {},
   "outputs": [
    {
     "data": {
      "text/html": [
       "<div>\n",
       "<style scoped>\n",
       "    .dataframe tbody tr th:only-of-type {\n",
       "        vertical-align: middle;\n",
       "    }\n",
       "\n",
       "    .dataframe tbody tr th {\n",
       "        vertical-align: top;\n",
       "    }\n",
       "\n",
       "    .dataframe thead th {\n",
       "        text-align: right;\n",
       "    }\n",
       "</style>\n",
       "<table border=\"1\" class=\"dataframe\">\n",
       "  <thead>\n",
       "    <tr style=\"text-align: right;\">\n",
       "      <th></th>\n",
       "      <th>Name</th>\n",
       "      <th>Year</th>\n",
       "      <th>Duration</th>\n",
       "      <th>Genre</th>\n",
       "      <th>Rating</th>\n",
       "      <th>Votes</th>\n",
       "      <th>Director</th>\n",
       "      <th>Actor 1</th>\n",
       "      <th>Actor 2</th>\n",
       "      <th>Actor 3</th>\n",
       "    </tr>\n",
       "  </thead>\n",
       "  <tbody>\n",
       "    <tr>\n",
       "      <th>0</th>\n",
       "      <td></td>\n",
       "      <td>NaN</td>\n",
       "      <td>NaN</td>\n",
       "      <td>Drama</td>\n",
       "      <td>NaN</td>\n",
       "      <td>NaN</td>\n",
       "      <td>J.S. Randhawa</td>\n",
       "      <td>Manmauji</td>\n",
       "      <td>Birbal</td>\n",
       "      <td>Rajendra Bhatia</td>\n",
       "    </tr>\n",
       "    <tr>\n",
       "      <th>1</th>\n",
       "      <td>#Gadhvi (He thought he was Gandhi)</td>\n",
       "      <td>(2019)</td>\n",
       "      <td>109 min</td>\n",
       "      <td>Drama</td>\n",
       "      <td>7.0</td>\n",
       "      <td>8</td>\n",
       "      <td>Gaurav Bakshi</td>\n",
       "      <td>Rasika Dugal</td>\n",
       "      <td>Vivek Ghamande</td>\n",
       "      <td>Arvind Jangid</td>\n",
       "    </tr>\n",
       "    <tr>\n",
       "      <th>2</th>\n",
       "      <td>#Homecoming</td>\n",
       "      <td>(2021)</td>\n",
       "      <td>90 min</td>\n",
       "      <td>Drama, Musical</td>\n",
       "      <td>NaN</td>\n",
       "      <td>NaN</td>\n",
       "      <td>Soumyajit Majumdar</td>\n",
       "      <td>Sayani Gupta</td>\n",
       "      <td>Plabita Borthakur</td>\n",
       "      <td>Roy Angana</td>\n",
       "    </tr>\n",
       "    <tr>\n",
       "      <th>3</th>\n",
       "      <td>#Yaaram</td>\n",
       "      <td>(2019)</td>\n",
       "      <td>110 min</td>\n",
       "      <td>Comedy, Romance</td>\n",
       "      <td>4.4</td>\n",
       "      <td>35</td>\n",
       "      <td>Ovais Khan</td>\n",
       "      <td>Prateik</td>\n",
       "      <td>Ishita Raj</td>\n",
       "      <td>Siddhant Kapoor</td>\n",
       "    </tr>\n",
       "    <tr>\n",
       "      <th>4</th>\n",
       "      <td>...And Once Again</td>\n",
       "      <td>(2010)</td>\n",
       "      <td>105 min</td>\n",
       "      <td>Drama</td>\n",
       "      <td>NaN</td>\n",
       "      <td>NaN</td>\n",
       "      <td>Amol Palekar</td>\n",
       "      <td>Rajat Kapoor</td>\n",
       "      <td>Rituparna Sengupta</td>\n",
       "      <td>Antara Mali</td>\n",
       "    </tr>\n",
       "  </tbody>\n",
       "</table>\n",
       "</div>"
      ],
      "text/plain": [
       "                                 Name    Year Duration            Genre  \\\n",
       "0                                         NaN      NaN            Drama   \n",
       "1  #Gadhvi (He thought he was Gandhi)  (2019)  109 min            Drama   \n",
       "2                         #Homecoming  (2021)   90 min   Drama, Musical   \n",
       "3                             #Yaaram  (2019)  110 min  Comedy, Romance   \n",
       "4                   ...And Once Again  (2010)  105 min            Drama   \n",
       "\n",
       "   Rating Votes            Director       Actor 1             Actor 2  \\\n",
       "0     NaN   NaN       J.S. Randhawa      Manmauji              Birbal   \n",
       "1     7.0     8       Gaurav Bakshi  Rasika Dugal      Vivek Ghamande   \n",
       "2     NaN   NaN  Soumyajit Majumdar  Sayani Gupta   Plabita Borthakur   \n",
       "3     4.4    35          Ovais Khan       Prateik          Ishita Raj   \n",
       "4     NaN   NaN        Amol Palekar  Rajat Kapoor  Rituparna Sengupta   \n",
       "\n",
       "           Actor 3  \n",
       "0  Rajendra Bhatia  \n",
       "1    Arvind Jangid  \n",
       "2       Roy Angana  \n",
       "3  Siddhant Kapoor  \n",
       "4      Antara Mali  "
      ]
     },
     "execution_count": 7,
     "metadata": {},
     "output_type": "execute_result"
    }
   ],
   "source": [
    "df.head()"
   ]
  },
  {
   "cell_type": "code",
   "execution_count": null,
   "id": "80eaf253",
   "metadata": {},
   "outputs": [],
   "source": []
  },
  {
   "cell_type": "code",
   "execution_count": 8,
   "id": "a412b0da",
   "metadata": {
    "scrolled": true
   },
   "outputs": [
    {
     "name": "stdout",
     "output_type": "stream",
     "text": [
      "<class 'pandas.core.frame.DataFrame'>\n",
      "RangeIndex: 15509 entries, 0 to 15508\n",
      "Data columns (total 10 columns):\n",
      " #   Column    Non-Null Count  Dtype  \n",
      "---  ------    --------------  -----  \n",
      " 0   Name      15509 non-null  object \n",
      " 1   Year      14981 non-null  object \n",
      " 2   Duration  7240 non-null   object \n",
      " 3   Genre     13632 non-null  object \n",
      " 4   Rating    7919 non-null   float64\n",
      " 5   Votes     7920 non-null   object \n",
      " 6   Director  14984 non-null  object \n",
      " 7   Actor 1   13892 non-null  object \n",
      " 8   Actor 2   13125 non-null  object \n",
      " 9   Actor 3   12365 non-null  object \n",
      "dtypes: float64(1), object(9)\n",
      "memory usage: 1.2+ MB\n"
     ]
    }
   ],
   "source": [
    "df.info()"
   ]
  },
  {
   "cell_type": "code",
   "execution_count": 9,
   "id": "0de9b3a2",
   "metadata": {},
   "outputs": [
    {
     "data": {
      "text/plain": [
       "Index(['Name', 'Year', 'Duration', 'Genre', 'Rating', 'Votes', 'Director',\n",
       "       'Actor 1', 'Actor 2', 'Actor 3'],\n",
       "      dtype='object')"
      ]
     },
     "execution_count": 9,
     "metadata": {},
     "output_type": "execute_result"
    }
   ],
   "source": [
    "df.columns"
   ]
  },
  {
   "cell_type": "code",
   "execution_count": null,
   "id": "98e472ef",
   "metadata": {},
   "outputs": [],
   "source": []
  },
  {
   "cell_type": "code",
   "execution_count": 10,
   "id": "90b1375e",
   "metadata": {},
   "outputs": [
    {
     "data": {
      "text/html": [
       "<div>\n",
       "<style scoped>\n",
       "    .dataframe tbody tr th:only-of-type {\n",
       "        vertical-align: middle;\n",
       "    }\n",
       "\n",
       "    .dataframe tbody tr th {\n",
       "        vertical-align: top;\n",
       "    }\n",
       "\n",
       "    .dataframe thead th {\n",
       "        text-align: right;\n",
       "    }\n",
       "</style>\n",
       "<table border=\"1\" class=\"dataframe\">\n",
       "  <thead>\n",
       "    <tr style=\"text-align: right;\">\n",
       "      <th></th>\n",
       "      <th>Rating</th>\n",
       "    </tr>\n",
       "  </thead>\n",
       "  <tbody>\n",
       "    <tr>\n",
       "      <th>count</th>\n",
       "      <td>7919.000000</td>\n",
       "    </tr>\n",
       "    <tr>\n",
       "      <th>mean</th>\n",
       "      <td>5.841621</td>\n",
       "    </tr>\n",
       "    <tr>\n",
       "      <th>std</th>\n",
       "      <td>1.381777</td>\n",
       "    </tr>\n",
       "    <tr>\n",
       "      <th>min</th>\n",
       "      <td>1.100000</td>\n",
       "    </tr>\n",
       "    <tr>\n",
       "      <th>25%</th>\n",
       "      <td>4.900000</td>\n",
       "    </tr>\n",
       "    <tr>\n",
       "      <th>50%</th>\n",
       "      <td>6.000000</td>\n",
       "    </tr>\n",
       "    <tr>\n",
       "      <th>75%</th>\n",
       "      <td>6.800000</td>\n",
       "    </tr>\n",
       "    <tr>\n",
       "      <th>max</th>\n",
       "      <td>10.000000</td>\n",
       "    </tr>\n",
       "  </tbody>\n",
       "</table>\n",
       "</div>"
      ],
      "text/plain": [
       "            Rating\n",
       "count  7919.000000\n",
       "mean      5.841621\n",
       "std       1.381777\n",
       "min       1.100000\n",
       "25%       4.900000\n",
       "50%       6.000000\n",
       "75%       6.800000\n",
       "max      10.000000"
      ]
     },
     "execution_count": 10,
     "metadata": {},
     "output_type": "execute_result"
    }
   ],
   "source": [
    "df.describe()"
   ]
  },
  {
   "cell_type": "code",
   "execution_count": null,
   "id": "40b8d052",
   "metadata": {},
   "outputs": [],
   "source": []
  },
  {
   "cell_type": "code",
   "execution_count": 11,
   "id": "7b474d45",
   "metadata": {},
   "outputs": [],
   "source": [
    "# filling missing value of duration time  "
   ]
  },
  {
   "cell_type": "code",
   "execution_count": 12,
   "id": "c4514862",
   "metadata": {},
   "outputs": [
    {
     "data": {
      "text/plain": [
       "Name           0\n",
       "Year         528\n",
       "Duration    8269\n",
       "Genre       1877\n",
       "Rating      7590\n",
       "Votes       7589\n",
       "Director     525\n",
       "Actor 1     1617\n",
       "Actor 2     2384\n",
       "Actor 3     3144\n",
       "dtype: int64"
      ]
     },
     "execution_count": 12,
     "metadata": {},
     "output_type": "execute_result"
    }
   ],
   "source": [
    "df.isnull().sum()"
   ]
  },
  {
   "cell_type": "code",
   "execution_count": 13,
   "id": "2b335948",
   "metadata": {},
   "outputs": [],
   "source": [
    "\n",
    "df = df.dropna(subset=['Duration'])\n",
    "\n",
    "# Function to convert duration strings to minutes\n",
    "def convert_to_minutes(duration_str):\n",
    "    try:\n",
    "        \n",
    "        duration = int(duration_str.split(' ')[0])\n",
    "        return duration\n",
    "    except ValueError:\n",
    "        return None\n",
    "\n",
    "df['Duration'] = df['Duration'].apply(convert_to_minutes)\n"
   ]
  },
  {
   "cell_type": "code",
   "execution_count": 14,
   "id": "e7a2ac0e",
   "metadata": {},
   "outputs": [
    {
     "data": {
      "text/plain": [
       "1        109\n",
       "2         90\n",
       "3        110\n",
       "4        105\n",
       "5        147\n",
       "        ... \n",
       "15493    115\n",
       "15494    153\n",
       "15503    125\n",
       "15505    129\n",
       "15508    130\n",
       "Name: Duration, Length: 7240, dtype: int64"
      ]
     },
     "execution_count": 14,
     "metadata": {},
     "output_type": "execute_result"
    }
   ],
   "source": [
    "df['Duration']"
   ]
  },
  {
   "cell_type": "code",
   "execution_count": null,
   "id": "66ad37e8",
   "metadata": {},
   "outputs": [],
   "source": []
  },
  {
   "cell_type": "code",
   "execution_count": null,
   "id": "4a06a13e",
   "metadata": {},
   "outputs": [],
   "source": []
  },
  {
   "cell_type": "code",
   "execution_count": 46,
   "id": "7b5b9701",
   "metadata": {},
   "outputs": [
    {
     "name": "stdout",
     "output_type": "stream",
     "text": [
      "Mean Squared Error (MSE): 1.8182436016304904\n",
      "Root Mean Squared Error (RMSE): 1.3484226346477912\n",
      "R-squared (R^2): 0.0981216384029091\n"
     ]
    }
   ],
   "source": []
  },
  {
   "cell_type": "code",
   "execution_count": 15,
   "id": "953f16c9",
   "metadata": {},
   "outputs": [
    {
     "name": "stdout",
     "output_type": "stream",
     "text": [
      "<class 'pandas.core.frame.DataFrame'>\n",
      "Int64Index: 7240 entries, 1 to 15508\n",
      "Data columns (total 10 columns):\n",
      " #   Column    Non-Null Count  Dtype  \n",
      "---  ------    --------------  -----  \n",
      " 0   Name      7240 non-null   object \n",
      " 1   Year      7115 non-null   object \n",
      " 2   Duration  7240 non-null   int64  \n",
      " 3   Genre     7053 non-null   object \n",
      " 4   Rating    5851 non-null   float64\n",
      " 5   Votes     5851 non-null   object \n",
      " 6   Director  7226 non-null   object \n",
      " 7   Actor 1   6976 non-null   object \n",
      " 8   Actor 2   6831 non-null   object \n",
      " 9   Actor 3   6691 non-null   object \n",
      "dtypes: float64(1), int64(1), object(8)\n",
      "memory usage: 622.2+ KB\n"
     ]
    }
   ],
   "source": []
  },
  {
   "cell_type": "code",
   "execution_count": null,
   "id": "d10d7821",
   "metadata": {},
   "outputs": [],
   "source": []
  },
  {
   "cell_type": "code",
   "execution_count": 16,
   "id": "c0c02e3d",
   "metadata": {},
   "outputs": [],
   "source": [
    "#filling the null value of rating columns with the mean\n",
    "mean=df['Rating'].mean()"
   ]
  },
  {
   "cell_type": "code",
   "execution_count": null,
   "id": "9e750591",
   "metadata": {},
   "outputs": [],
   "source": []
  },
  {
   "cell_type": "code",
   "execution_count": 17,
   "id": "3d30e895",
   "metadata": {},
   "outputs": [],
   "source": [
    "df['Rating'].fillna(mean,inplace=True)"
   ]
  },
  {
   "cell_type": "code",
   "execution_count": null,
   "id": "38159b9a",
   "metadata": {},
   "outputs": [],
   "source": []
  },
  {
   "cell_type": "code",
   "execution_count": 18,
   "id": "717b392c",
   "metadata": {},
   "outputs": [],
   "source": [
    "#filling the null value of votes columns \n",
    "df['Votes'] = pd.to_numeric(df['Votes'], errors='coerce')\n",
    "df.dropna(subset=['Votes'], inplace=True)"
   ]
  },
  {
   "cell_type": "code",
   "execution_count": 19,
   "id": "7967b2d6",
   "metadata": {},
   "outputs": [
    {
     "data": {
      "text/plain": [
       "1        (2019)\n",
       "3        (2019)\n",
       "5        (1997)\n",
       "8        (2012)\n",
       "9        (2014)\n",
       "          ...  \n",
       "15492    (1975)\n",
       "15493    (2015)\n",
       "15503    (1989)\n",
       "15505    (1999)\n",
       "15508    (1998)\n",
       "Name: Year, Length: 4482, dtype: object"
      ]
     },
     "execution_count": 19,
     "metadata": {},
     "output_type": "execute_result"
    }
   ],
   "source": [
    "df['Year']"
   ]
  },
  {
   "cell_type": "code",
   "execution_count": 20,
   "id": "a208d179",
   "metadata": {},
   "outputs": [],
   "source": [
    "#chaniging datatype of the year to int \n",
    "# Remove parentheses and convert 'Year' to int\n",
    "df['Year'] = df['Year'].str.replace(r'[^0-9]', '', regex=True).astype(int)\n"
   ]
  },
  {
   "cell_type": "code",
   "execution_count": 21,
   "id": "35416f46",
   "metadata": {},
   "outputs": [
    {
     "data": {
      "text/plain": [
       "1        2019\n",
       "3        2019\n",
       "5        1997\n",
       "8        2012\n",
       "9        2014\n",
       "         ... \n",
       "15492    1975\n",
       "15493    2015\n",
       "15503    1989\n",
       "15505    1999\n",
       "15508    1998\n",
       "Name: Year, Length: 4482, dtype: int32"
      ]
     },
     "execution_count": 21,
     "metadata": {},
     "output_type": "execute_result"
    }
   ],
   "source": [
    "df['Year']"
   ]
  },
  {
   "cell_type": "code",
   "execution_count": 22,
   "id": "7d9d7ae6",
   "metadata": {},
   "outputs": [],
   "source": [
    "df['Year']=df['Year'].astype('int')"
   ]
  },
  {
   "cell_type": "code",
   "execution_count": 23,
   "id": "c1d04f83",
   "metadata": {},
   "outputs": [],
   "source": [
    "mean=df['Year'].mean()\n",
    "df['Year'].fillna(mean,inplace=True)"
   ]
  },
  {
   "cell_type": "code",
   "execution_count": 24,
   "id": "a241c585",
   "metadata": {},
   "outputs": [
    {
     "name": "stdout",
     "output_type": "stream",
     "text": [
      "<class 'pandas.core.frame.DataFrame'>\n",
      "Int64Index: 4482 entries, 1 to 15508\n",
      "Data columns (total 10 columns):\n",
      " #   Column    Non-Null Count  Dtype  \n",
      "---  ------    --------------  -----  \n",
      " 0   Name      4482 non-null   object \n",
      " 1   Year      4482 non-null   int32  \n",
      " 2   Duration  4482 non-null   int64  \n",
      " 3   Genre     4451 non-null   object \n",
      " 4   Rating    4482 non-null   float64\n",
      " 5   Votes     4482 non-null   float64\n",
      " 6   Director  4481 non-null   object \n",
      " 7   Actor 1   4407 non-null   object \n",
      " 8   Actor 2   4365 non-null   object \n",
      " 9   Actor 3   4320 non-null   object \n",
      "dtypes: float64(2), int32(1), int64(1), object(6)\n",
      "memory usage: 367.7+ KB\n"
     ]
    }
   ],
   "source": [
    "df.info()"
   ]
  },
  {
   "cell_type": "code",
   "execution_count": 25,
   "id": "0c181ca1",
   "metadata": {},
   "outputs": [],
   "source": [
    "df['Votes'] = df['Votes'].astype(int)  # Convert to integer if 'Votes' is meant to be integer."
   ]
  },
  {
   "cell_type": "code",
   "execution_count": null,
   "id": "5ec0725b",
   "metadata": {},
   "outputs": [],
   "source": []
  },
  {
   "cell_type": "code",
   "execution_count": 26,
   "id": "6a761a5b",
   "metadata": {},
   "outputs": [],
   "source": [
    "#filling the null value of director columms\n",
    "df['Director'].fillna('unknown',inplace=True)"
   ]
  },
  {
   "cell_type": "code",
   "execution_count": 27,
   "id": "033358b5",
   "metadata": {},
   "outputs": [],
   "source": [
    "#filling the null value of actor1 columms\n",
    "df['Actor 1'].fillna('unknown',inplace=True)"
   ]
  },
  {
   "cell_type": "code",
   "execution_count": null,
   "id": "5f644269",
   "metadata": {},
   "outputs": [],
   "source": []
  },
  {
   "cell_type": "code",
   "execution_count": 28,
   "id": "ba77855b",
   "metadata": {},
   "outputs": [],
   "source": [
    "#filling the null value of actor2 columms\n",
    "df['Actor 2'].fillna('unknown',inplace=True)"
   ]
  },
  {
   "cell_type": "code",
   "execution_count": 29,
   "id": "1c777b29",
   "metadata": {},
   "outputs": [],
   "source": [
    "#filling the null value of actor3 columms\n",
    "df['Actor 3'].fillna('unknown',inplace=True)"
   ]
  },
  {
   "cell_type": "code",
   "execution_count": 30,
   "id": "a6e2b4f4",
   "metadata": {},
   "outputs": [],
   "source": [
    "#changining the datatype of Rating to float datatype\n",
    "df['Rating']=df['Rating'].astype('float')"
   ]
  },
  {
   "cell_type": "code",
   "execution_count": 31,
   "id": "e251ae6b",
   "metadata": {},
   "outputs": [],
   "source": [
    "ndf=df['Genre'].dropna()"
   ]
  },
  {
   "cell_type": "code",
   "execution_count": null,
   "id": "60288f97",
   "metadata": {},
   "outputs": [],
   "source": []
  },
  {
   "cell_type": "code",
   "execution_count": 32,
   "id": "443cd7b4",
   "metadata": {},
   "outputs": [
    {
     "data": {
      "text/plain": [
       "Name         0\n",
       "Year         0\n",
       "Duration     0\n",
       "Genre       31\n",
       "Rating       0\n",
       "Votes        0\n",
       "Director     0\n",
       "Actor 1      0\n",
       "Actor 2      0\n",
       "Actor 3      0\n",
       "dtype: int64"
      ]
     },
     "execution_count": 32,
     "metadata": {},
     "output_type": "execute_result"
    }
   ],
   "source": [
    "df.isnull().sum()"
   ]
  },
  {
   "cell_type": "code",
   "execution_count": 33,
   "id": "46f71a4f",
   "metadata": {},
   "outputs": [
    {
     "data": {
      "text/plain": [
       "1                            Drama\n",
       "3                  Comedy, Romance\n",
       "5           Comedy, Drama, Musical\n",
       "8        Horror, Mystery, Thriller\n",
       "9          Action, Crime, Thriller\n",
       "                   ...            \n",
       "15492    Action, Adventure, Comedy\n",
       "15493                        Drama\n",
       "15503         Action, Crime, Drama\n",
       "15505                Action, Drama\n",
       "15508                Action, Drama\n",
       "Name: Genre, Length: 4482, dtype: object"
      ]
     },
     "execution_count": 33,
     "metadata": {},
     "output_type": "execute_result"
    }
   ],
   "source": [
    "df['Genre']"
   ]
  },
  {
   "cell_type": "code",
   "execution_count": 34,
   "id": "ae50f216",
   "metadata": {},
   "outputs": [
    {
     "name": "stderr",
     "output_type": "stream",
     "text": [
      "C:\\Users\\btirk\\AppData\\Local\\Temp\\ipykernel_2932\\3632440278.py:1: FutureWarning: The default value of regex will change from True to False in a future version.\n",
      "  df['Cleaned_Name'] = df['Name'].str.replace('[^a-zA-Z0-9\\s]', '').str.lower()\n"
     ]
    },
    {
     "data": {
      "text/plain": [
       "1        gadhvi he thought he was gandhi\n",
       "3                                 yaaram\n",
       "5                      aur pyaar ho gaya\n",
       "8                        a question mark\n",
       "9                                andheri\n",
       "                      ...               \n",
       "15492                              zorro\n",
       "15493                             zubaan\n",
       "15503                    zulm ki zanjeer\n",
       "15505                              zulmi\n",
       "15508                         zulmositam\n",
       "Name: Cleaned_Name, Length: 4482, dtype: object"
      ]
     },
     "execution_count": 34,
     "metadata": {},
     "output_type": "execute_result"
    }
   ],
   "source": [
    "\n",
    "df['Cleaned_Name'] = df['Name'].str.replace('[^a-zA-Z0-9\\s]', '').str.lower()\n",
    "\n",
    "df['Cleaned_Name']"
   ]
  },
  {
   "cell_type": "code",
   "execution_count": 35,
   "id": "f5dd15df",
   "metadata": {},
   "outputs": [],
   "source": [
    "# Split the genres and apply one-hot encoding\n",
    "#df['Genre'] = df['Genre'].str.split(',')\n",
    "#df = df.join(df['Genre'].str.join('|').str.get_dummies())"
   ]
  },
  {
   "cell_type": "code",
   "execution_count": null,
   "id": "7128aed3",
   "metadata": {},
   "outputs": [],
   "source": []
  },
  {
   "cell_type": "code",
   "execution_count": 36,
   "id": "684a9cc3",
   "metadata": {},
   "outputs": [
    {
     "data": {
      "text/plain": [
       "1                            Drama\n",
       "3                  Comedy, Romance\n",
       "5           Comedy, Drama, Musical\n",
       "8        Horror, Mystery, Thriller\n",
       "9          Action, Crime, Thriller\n",
       "                   ...            \n",
       "15492    Action, Adventure, Comedy\n",
       "15493                        Drama\n",
       "15503         Action, Crime, Drama\n",
       "15505                Action, Drama\n",
       "15508                Action, Drama\n",
       "Name: Genre, Length: 4482, dtype: object"
      ]
     },
     "execution_count": 36,
     "metadata": {},
     "output_type": "execute_result"
    }
   ],
   "source": [
    "df['Genre']"
   ]
  },
  {
   "cell_type": "code",
   "execution_count": 37,
   "id": "1fe4f2c5",
   "metadata": {},
   "outputs": [
    {
     "data": {
      "text/plain": [
       "Index(['Name', 'Year', 'Duration', 'Genre', 'Rating', 'Votes', 'Director',\n",
       "       'Actor 1', 'Actor 2', 'Actor 3', 'Cleaned_Name'],\n",
       "      dtype='object')"
      ]
     },
     "execution_count": 37,
     "metadata": {},
     "output_type": "execute_result"
    }
   ],
   "source": [
    "df.columns"
   ]
  },
  {
   "cell_type": "code",
   "execution_count": null,
   "id": "450e68d1",
   "metadata": {},
   "outputs": [],
   "source": []
  },
  {
   "cell_type": "code",
   "execution_count": 38,
   "id": "3cae4840",
   "metadata": {},
   "outputs": [],
   "source": [
    "#genre_counts = df[['Action', 'Comedy', 'Drama','Adventure','Biography','Crime','Family','Fantasy','History','Horror','Music','Musical','Mystery',' News','Romance','Sci-Fi','Sport','Thriller','War',' Western','Action','Adventure','Animation','Biography']].sum()\n"
   ]
  },
  {
   "cell_type": "code",
   "execution_count": 39,
   "id": "4fe3a973",
   "metadata": {},
   "outputs": [
    {
     "data": {
      "image/png": "[encoded data removed]",
      "text/plain": [
       "<Figure size 800x600 with 1 Axes>"
      ]
     },
     "metadata": {},
     "output_type": "display_data"
    }
   ],
   "source": [
    "#plotting a histogram\n",
    "\n",
    "plt.figure(figsize=(8, 6))\n",
    "sns.set(style=\"whitegrid\")\n",
    "sns.histplot(data=df, x='Rating', bins=8,  color='skyblue',)\n",
    "plt.title('Distribution of Movie Ratings')\n",
    "plt.xlabel('Rating')\n",
    "plt.ylabel('Frequency')\n",
    "plt.show()\n",
    "#here we can conclude that average movies rating is around 6 or 6.5"
   ]
  },
  {
   "cell_type": "code",
   "execution_count": null,
   "id": "6ab417a8",
   "metadata": {},
   "outputs": [],
   "source": []
  },
  {
   "cell_type": "code",
   "execution_count": null,
   "id": "46e79feb",
   "metadata": {},
   "outputs": [],
   "source": []
  },
  {
   "cell_type": "code",
   "execution_count": 40,
   "id": "196bdef6",
   "metadata": {},
   "outputs": [
    {
     "name": "stderr",
     "output_type": "stream",
     "text": [
      "C:\\Users\\btirk\\AppData\\Local\\Temp\\ipykernel_2932\\2975651719.py:1: FutureWarning: The default value of numeric_only in DataFrame.corr is deprecated. In a future version, it will default to False. Select only valid columns or specify the value of numeric_only to silence this warning.\n",
      "  sns.heatmap(df.corr())\n"
     ]
    },
    {
     "data": {
      "image/png": "[encoded data removed]",
      "text/plain": [
       "<Figure size 640x480 with 2 Axes>"
      ]
     },
     "metadata": {},
     "output_type": "display_data"
    }
   ],
   "source": [
    "sns.heatmap(df.corr())\n",
    "plt.show()"
   ]
  },
  {
   "cell_type": "code",
   "execution_count": null,
   "id": "b03742ff",
   "metadata": {},
   "outputs": [],
   "source": []
  },
  {
   "cell_type": "code",
   "execution_count": 47,
   "id": "0c5f1690",
   "metadata": {},
   "outputs": [
    {
     "name": "stdout",
     "output_type": "stream",
     "text": [
      "Mean Squared Error (MSE): 1.8182436016304904\n",
      "Root Mean Squared Error (RMSE): 1.3484226346477912\n",
      "R-squared (R^2): 0.0981216384029091\n"
     ]
    }
   ],
   "source": [
    "X = df[['Year', 'Duration', 'Votes']]  # Include relevant features\n",
    "y = df['Rating']\n",
    "\n",
    "X_train, X_test, y_train, y_test = train_test_split(X, y, test_size=0.2, random_state=42)\n",
    "\n",
    "# Create and train the linear regression model\n",
    "model = LinearRegression()\n",
    "model.fit(X_train, y_train)\n",
    "\n",
    "# Make predictions on the testing data\n",
    "y_pred = model.predict(X_test)\n",
    "\n",
    "# Evaluate the model\n",
    "mse = mean_squared_error(y_test, y_pred)\n",
    "rmse = mean_squared_error(y_test, y_pred, squared=False)\n",
    "r2 = r2_score(y_test, y_pred)\n",
    "\n",
    "print(f'Mean Squared Error (MSE): {mse}')\n",
    "print(f'Root Mean Squared Error (RMSE): {rmse}')\n",
    "print(f'R-squared (R^2): {r2}')"
   ]
  }
 ],
 "metadata": {
  "kernelspec": {
   "display_name": "Python 3 (ipykernel)",
   "language": "python",
   "name": "python3"
  },
  "language_info": {
   "codemirror_mode": {
    "name": "ipython",
    "version": 3
   },
   "file_extension": ".py",
   "mimetype": "text/x-python",
   "name": "python",
   "nbconvert_exporter": "python",
   "pygments_lexer": "ipython3",
   "version": "3.10.9"
  }
 },
 "nbformat": 4,
 "nbformat_minor": 5
}
